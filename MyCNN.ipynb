{
 "cells": [
  {
   "cell_type": "code",
   "execution_count": 15,
   "id": "1a62b752",
   "metadata": {},
   "outputs": [],
   "source": [
    "import pandas as pd\n",
    "import tensorflow as tf\n",
    "from keras.preprocessing.image import ImageDataGenerator"
   ]
  },
  {
   "cell_type": "code",
   "execution_count": 16,
   "id": "49fe6df6",
   "metadata": {},
   "outputs": [
    {
     "data": {
      "text/plain": [
       "'2.8.0'"
      ]
     },
     "execution_count": 16,
     "metadata": {},
     "output_type": "execute_result"
    }
   ],
   "source": [
    "tf.__version__"
   ]
  },
  {
   "cell_type": "code",
   "execution_count": 17,
   "id": "46bc44d6",
   "metadata": {},
   "outputs": [
    {
     "name": "stdout",
     "output_type": "stream",
     "text": [
      "Found 8000 images belonging to 2 classes.\n"
     ]
    }
   ],
   "source": [
    "train_datagen = ImageDataGenerator(rescale = 1./255,\n",
    "                                   shear_range = 0.2,\n",
    "                                   zoom_range = 0.2,\n",
    "                                   horizontal_flip = True)\n",
    "train_set = train_datagen.flow_from_directory('dataset/training_set',\n",
    "                                                 target_size = (64, 64),\n",
    "                                                 batch_size = 32,\n",
    "                                                 class_mode = 'binary')"
   ]
  },
  {
   "cell_type": "code",
   "execution_count": 18,
   "id": "25fc8a0b",
   "metadata": {},
   "outputs": [
    {
     "name": "stdout",
     "output_type": "stream",
     "text": [
      "Found 2000 images belonging to 2 classes.\n"
     ]
    }
   ],
   "source": [
    "test_datagen = ImageDataGenerator(rescale = 1./255)\n",
    "test_set = test_datagen.flow_from_directory('dataset/test_set',\n",
    "                                            target_size = (64, 64),\n",
    "                                            batch_size = 32,\n",
    "                                            class_mode = 'binary')"
   ]
  },
  {
   "cell_type": "markdown",
   "id": "f4625c8f",
   "metadata": {},
   "source": [
    "# Building CNN"
   ]
  },
  {
   "cell_type": "code",
   "execution_count": 19,
   "id": "1a18bcd9",
   "metadata": {},
   "outputs": [],
   "source": [
    "cnn = tf.keras.models.Sequential()"
   ]
  },
  {
   "cell_type": "code",
   "execution_count": 20,
   "id": "b5e4fc43",
   "metadata": {},
   "outputs": [],
   "source": [
    "cnn.add(tf.keras.layers.Conv2D(filters=32,kernel_size=3,activation='relu',input_shape=[64,64,3]))"
   ]
  },
  {
   "cell_type": "code",
   "execution_count": 21,
   "id": "ab6943ab",
   "metadata": {},
   "outputs": [],
   "source": [
    "cnn.add(tf.keras.layers.MaxPool2D(pool_size=2,strides=2))"
   ]
  },
  {
   "cell_type": "code",
   "execution_count": 24,
   "id": "2a4c93e3",
   "metadata": {},
   "outputs": [],
   "source": [
    "cnn.add(tf.keras.layers.Conv2D(filters=32,kernel_size=3,activation='relu'))\n",
    "cnn.add(tf.keras.layers.MaxPool2D(pool_size=2,strides=2))"
   ]
  },
  {
   "cell_type": "code",
   "execution_count": 25,
   "id": "1c8d8b3e",
   "metadata": {},
   "outputs": [],
   "source": [
    "cnn.add(tf.keras.layers.Flatten())"
   ]
  },
  {
   "cell_type": "code",
   "execution_count": 27,
   "id": "e86a762b",
   "metadata": {},
   "outputs": [],
   "source": [
    "cnn.add(tf.keras.layers.Dense(units=128,activation='relu'))"
   ]
  },
  {
   "cell_type": "code",
   "execution_count": 30,
   "id": "98b258b7",
   "metadata": {},
   "outputs": [],
   "source": [
    "cnn.add(tf.keras.layers.Dense(units=1,activation='sigmoid'))"
   ]
  },
  {
   "cell_type": "markdown",
   "id": "e8c4ca99",
   "metadata": {},
   "source": [
    "# Training the CNN"
   ]
  },
  {
   "cell_type": "code",
   "execution_count": 32,
   "id": "b21cef3b",
   "metadata": {},
   "outputs": [],
   "source": [
    "cnn.compile(optimizer='adam',loss='binary_crossentropy',metrics=['accuracy'])"
   ]
  },
  {
   "cell_type": "code",
   "execution_count": 33,
   "id": "58253b70",
   "metadata": {},
   "outputs": [
    {
     "name": "stdout",
     "output_type": "stream",
     "text": [
      "Epoch 1/25\n",
      "250/250 [==============================] - 105s 417ms/step - loss: 0.6794 - accuracy: 0.5666 - val_loss: 0.6581 - val_accuracy: 0.5965\n",
      "Epoch 2/25\n",
      "250/250 [==============================] - 55s 219ms/step - loss: 0.6298 - accuracy: 0.6486 - val_loss: 0.6260 - val_accuracy: 0.6665\n",
      "Epoch 3/25\n",
      "250/250 [==============================] - 60s 238ms/step - loss: 0.5983 - accuracy: 0.6829 - val_loss: 0.5791 - val_accuracy: 0.7040\n",
      "Epoch 4/25\n",
      "250/250 [==============================] - 58s 233ms/step - loss: 0.5679 - accuracy: 0.7045 - val_loss: 0.5474 - val_accuracy: 0.7240\n",
      "Epoch 5/25\n",
      "250/250 [==============================] - 59s 235ms/step - loss: 0.5348 - accuracy: 0.7285 - val_loss: 0.5180 - val_accuracy: 0.7520\n",
      "Epoch 6/25\n",
      "250/250 [==============================] - 58s 232ms/step - loss: 0.5105 - accuracy: 0.7475 - val_loss: 0.5620 - val_accuracy: 0.7195\n",
      "Epoch 7/25\n",
      "250/250 [==============================] - 65s 259ms/step - loss: 0.4957 - accuracy: 0.7533 - val_loss: 0.5153 - val_accuracy: 0.7510\n",
      "Epoch 8/25\n",
      "250/250 [==============================] - 59s 235ms/step - loss: 0.4841 - accuracy: 0.7679 - val_loss: 0.4782 - val_accuracy: 0.7585\n",
      "Epoch 9/25\n",
      "250/250 [==============================] - 58s 234ms/step - loss: 0.4640 - accuracy: 0.7735 - val_loss: 0.4735 - val_accuracy: 0.7740\n",
      "Epoch 10/25\n",
      "250/250 [==============================] - 58s 233ms/step - loss: 0.4450 - accuracy: 0.7887 - val_loss: 0.5519 - val_accuracy: 0.7270\n",
      "Epoch 11/25\n",
      "250/250 [==============================] - 59s 236ms/step - loss: 0.4319 - accuracy: 0.7974 - val_loss: 0.4495 - val_accuracy: 0.7840\n",
      "Epoch 12/25\n",
      "250/250 [==============================] - 60s 240ms/step - loss: 0.4216 - accuracy: 0.8018 - val_loss: 0.4191 - val_accuracy: 0.8055\n",
      "Epoch 13/25\n",
      "250/250 [==============================] - 59s 237ms/step - loss: 0.4104 - accuracy: 0.8099 - val_loss: 0.4198 - val_accuracy: 0.7995\n",
      "Epoch 14/25\n",
      "250/250 [==============================] - 50s 200ms/step - loss: 0.4109 - accuracy: 0.8099 - val_loss: 0.4236 - val_accuracy: 0.8045\n",
      "Epoch 15/25\n",
      "250/250 [==============================] - 52s 206ms/step - loss: 0.4035 - accuracy: 0.8129 - val_loss: 0.4599 - val_accuracy: 0.7775\n",
      "Epoch 16/25\n",
      "250/250 [==============================] - 50s 199ms/step - loss: 0.3823 - accuracy: 0.8265 - val_loss: 0.3918 - val_accuracy: 0.8180\n",
      "Epoch 17/25\n",
      "250/250 [==============================] - 50s 199ms/step - loss: 0.3855 - accuracy: 0.8234 - val_loss: 0.3874 - val_accuracy: 0.8335\n",
      "Epoch 18/25\n",
      "250/250 [==============================] - 62s 246ms/step - loss: 0.3661 - accuracy: 0.8341 - val_loss: 0.4022 - val_accuracy: 0.8170\n",
      "Epoch 19/25\n",
      "250/250 [==============================] - 52s 210ms/step - loss: 0.3652 - accuracy: 0.8350 - val_loss: 0.3891 - val_accuracy: 0.8220\n",
      "Epoch 20/25\n",
      "250/250 [==============================] - 52s 209ms/step - loss: 0.3565 - accuracy: 0.8389 - val_loss: 0.3819 - val_accuracy: 0.8295\n",
      "Epoch 21/25\n",
      "250/250 [==============================] - 54s 214ms/step - loss: 0.3504 - accuracy: 0.8450 - val_loss: 0.3715 - val_accuracy: 0.8385\n",
      "Epoch 22/25\n",
      "250/250 [==============================] - 52s 207ms/step - loss: 0.3406 - accuracy: 0.8487 - val_loss: 0.3733 - val_accuracy: 0.8370\n",
      "Epoch 23/25\n",
      "250/250 [==============================] - 52s 208ms/step - loss: 0.3415 - accuracy: 0.8479 - val_loss: 0.3833 - val_accuracy: 0.8285\n",
      "Epoch 24/25\n",
      "250/250 [==============================] - 54s 216ms/step - loss: 0.3266 - accuracy: 0.8568 - val_loss: 0.4202 - val_accuracy: 0.8165\n",
      "Epoch 25/25\n",
      "250/250 [==============================] - 53s 213ms/step - loss: 0.3213 - accuracy: 0.8591 - val_loss: 0.4296 - val_accuracy: 0.8115\n"
     ]
    },
    {
     "data": {
      "text/plain": [
       "<keras.callbacks.History at 0x225e4b52700>"
      ]
     },
     "execution_count": 33,
     "metadata": {},
     "output_type": "execute_result"
    }
   ],
   "source": [
    "cnn.fit(x=train_set,validation_data=test_set,epochs=25)"
   ]
  },
  {
   "cell_type": "markdown",
   "id": "64035ffb",
   "metadata": {},
   "source": [
    "# Single prediction"
   ]
  },
  {
   "cell_type": "code",
   "execution_count": 67,
   "id": "97ac12b0",
   "metadata": {},
   "outputs": [],
   "source": [
    "import numpy as np\n",
    "from keras.preprocessing import image\n",
    "test_image = image.load_img('dataset/single_prediction/cat_or_dog_2.jpg',target_size = (64,64))"
   ]
  },
  {
   "cell_type": "code",
   "execution_count": 68,
   "id": "953750fa",
   "metadata": {},
   "outputs": [],
   "source": [
    "test_image = image.img_to_array(test_image)"
   ]
  },
  {
   "cell_type": "code",
   "execution_count": 69,
   "id": "d6f1daed",
   "metadata": {},
   "outputs": [],
   "source": [
    "test_image = np.expand_dims(test_image, axis=0)"
   ]
  },
  {
   "cell_type": "code",
   "execution_count": 70,
   "id": "b60b3fa9",
   "metadata": {},
   "outputs": [
    {
     "data": {
      "text/plain": [
       "{'cats': 0, 'dogs': 1}"
      ]
     },
     "execution_count": 70,
     "metadata": {},
     "output_type": "execute_result"
    }
   ],
   "source": [
    "train_set.class_indices"
   ]
  },
  {
   "cell_type": "code",
   "execution_count": 71,
   "id": "11475e87",
   "metadata": {},
   "outputs": [
    {
     "name": "stdout",
     "output_type": "stream",
     "text": [
      "dog\n"
     ]
    }
   ],
   "source": [
    "result = cnn.predict(test_image/255.0)\n",
    "if result[0][0] > 0.5:\n",
    "    prediction = \"dog\"\n",
    "else:\n",
    "    prediction = \"cat\"\n",
    "print(prediction)"
   ]
  },
  {
   "cell_type": "code",
   "execution_count": null,
   "id": "1bba95a2",
   "metadata": {},
   "outputs": [],
   "source": []
  }
 ],
 "metadata": {
  "kernelspec": {
   "display_name": "Python 3 (ipykernel)",
   "language": "python",
   "name": "python3"
  },
  "language_info": {
   "codemirror_mode": {
    "name": "ipython",
    "version": 3
   },
   "file_extension": ".py",
   "mimetype": "text/x-python",
   "name": "python",
   "nbconvert_exporter": "python",
   "pygments_lexer": "ipython3",
   "version": "3.9.7"
  }
 },
 "nbformat": 4,
 "nbformat_minor": 5
}
